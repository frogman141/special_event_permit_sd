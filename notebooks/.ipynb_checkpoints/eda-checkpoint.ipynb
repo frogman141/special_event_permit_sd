{
 "cells": [
  {
   "cell_type": "markdown",
   "metadata": {},
   "source": [
    "# Exploring City of San Diego Special Event Permiting dataset\n",
    "\n",
    "San Diego has been leading the charge when in opening and providing open city data. This data can be found at https://data.sandiego.gov. \n",
    "\n",
    "For this Friday Exporlation Challegne we're exploring the Special Events permiting dataset of San Diego. In order for special events to host an event on public property you need to apply for a special permit. So lets get down to exploring.\n",
    "\n",
    "## Alex's Exploration:\n",
    "Let's Explore San Diego's Special Event Permitting Dataset! I found this data on San Diego's Open Data Portal and wanted to take a crack at exploring the data. All Data has a story. Let's find it.\n",
    "\n",
    "Questions I am looking to answer:\n",
    "- Who has hosted the most event in San Diego over the past few years? (Frequency Count)\n",
    "- What is the most common types of special events?(Frequency Count and Topic Analysis)\n",
    "    - Compare the frequency of certain types of special events occuring?\n",
    "    - Conduct a topic analysis on the given event descriptions.\n",
    "- When did the majority of these events take place? (Kind of Time Series)\n",
    "- What is the distribution of participants and attendees for the Special Events? (Distribution)\n",
    "- What is the geographical distribution of specially permitted events in san diego? (GIS)\n",
    "    - Is there geographical clustering of certain types of events? (GIS and Clustering)"
   ]
  },
  {
   "cell_type": "code",
   "execution_count": 28,
   "metadata": {},
   "outputs": [],
   "source": [
    "import re\n",
    "import tldextract\n",
    "import numpy as np\n",
    "import pandas as pd\n",
    "import matplotlib.pyplot as plt\n",
    "import seaborn as sns\n",
    "\n",
    "%matplotlib inline\n",
    "\n",
    "# reading the special event data into a pandas dataframe\n",
    "df = pd.read_csv('../data/special_events_list_datasd.csv')"
   ]
  },
  {
   "cell_type": "code",
   "execution_count": 29,
   "metadata": {},
   "outputs": [
    {
     "data": {
      "text/plain": [
       "2769"
      ]
     },
     "execution_count": 29,
     "metadata": {},
     "output_type": "execute_result"
    }
   ],
   "source": [
    "len(df)"
   ]
  },
  {
   "cell_type": "code",
   "execution_count": 30,
   "metadata": {},
   "outputs": [
    {
     "data": {
      "text/plain": [
       "event_title          object\n",
       "event_id              int64\n",
       "event_subtitle      float64\n",
       "event_type           object\n",
       "event_desc           object\n",
       "event_loc            object\n",
       "event_start          object\n",
       "event_end            object\n",
       "exp_attendance       object\n",
       "exp_participants     object\n",
       "event_host           object\n",
       "event_url            object\n",
       "event_address        object\n",
       "latitude            float64\n",
       "longitude           float64\n",
       "dtype: object"
      ]
     },
     "execution_count": 30,
     "metadata": {},
     "output_type": "execute_result"
    }
   ],
   "source": [
    "df.dtypes"
   ]
  },
  {
   "cell_type": "code",
   "execution_count": 31,
   "metadata": {},
   "outputs": [
    {
     "name": "stdout",
     "output_type": "stream",
     "text": [
      "event_title            0\n",
      "event_id               0\n",
      "event_subtitle      2769\n",
      "event_type             0\n",
      "event_desc             0\n",
      "event_loc              0\n",
      "event_start            0\n",
      "event_end              0\n",
      "exp_attendance        21\n",
      "exp_participants      41\n",
      "event_host             1\n",
      "event_url            533\n",
      "event_address        168\n",
      "latitude             184\n",
      "longitude            184\n",
      "dtype: int64\n"
     ]
    }
   ],
   "source": [
    "print (df.isnull().sum())"
   ]
  },
  {
   "cell_type": "markdown",
   "metadata": {},
   "source": [
    "# Data Cleaning\n",
    "\n",
    "Before we can explore the data we need to process the event_urls and clean the host_names. I am doing this so i am can get a rough estimate of how many events and individual event_host has hosted. Additionally, it's good practice to clean text data before getting into any indepth anaylsis."
   ]
  },
  {
   "cell_type": "code",
   "execution_count": 32,
   "metadata": {},
   "outputs": [],
   "source": [
    "def cleaning_names(string):\n",
    "    \"\"\"\n",
    "        Overview: This function is responsible for cleaning the text data from the special event permiting \n",
    "        event.\n",
    "    \"\"\"\n",
    "    string = re.sub(r'[\\',-./]|\\sBD',r'', string)\n",
    "    return string.strip().lower()\n",
    "\n",
    "def url_processing(df):\n",
    "    \"\"\"\n",
    "        Overview: This function is responsible for cleaning and separating the event Urls from the special\n",
    "        permit dataset. The purpose of this is to identify organizations that have hosted multiple events.\n",
    "        \n",
    "        Input:\n",
    "            - df: pandas dataframe the of special permit dataset.\n",
    "        \n",
    "        Output:\n",
    "            - domain: a list containing the url domains \n",
    "            - suffix: a list containing the url suffix\n",
    "    \"\"\"\n",
    "    domain = []\n",
    "    suffix = []\n",
    "    \n",
    "    for url in df.event_url.values:\n",
    "        try:\n",
    "            processed = tldextract.extract(url)\n",
    "            domain.append(processed.domain)\n",
    "            suffix.append(processed.suffix)\n",
    "        except:\n",
    "            domain.append(np.nan)\n",
    "            suffix.append(np.nan)\n",
    "    \n",
    "    return domain, suffix"
   ]
  },
  {
   "cell_type": "code",
   "execution_count": 33,
   "metadata": {},
   "outputs": [
    {
     "data": {
      "text/html": [
       "<div>\n",
       "<style>\n",
       "    .dataframe thead tr:only-child th {\n",
       "        text-align: right;\n",
       "    }\n",
       "\n",
       "    .dataframe thead th {\n",
       "        text-align: left;\n",
       "    }\n",
       "\n",
       "    .dataframe tbody tr th {\n",
       "        vertical-align: top;\n",
       "    }\n",
       "</style>\n",
       "<table border=\"1\" class=\"dataframe\">\n",
       "  <thead>\n",
       "    <tr style=\"text-align: right;\">\n",
       "      <th></th>\n",
       "      <th>event_title</th>\n",
       "      <th>event_id</th>\n",
       "      <th>event_subtitle</th>\n",
       "      <th>event_type</th>\n",
       "      <th>event_desc</th>\n",
       "      <th>event_loc</th>\n",
       "      <th>event_start</th>\n",
       "      <th>event_end</th>\n",
       "      <th>exp_attendance</th>\n",
       "      <th>exp_participants</th>\n",
       "      <th>event_host</th>\n",
       "      <th>event_url</th>\n",
       "      <th>event_address</th>\n",
       "      <th>latitude</th>\n",
       "      <th>longitude</th>\n",
       "      <th>event_domain</th>\n",
       "      <th>event_suffix</th>\n",
       "    </tr>\n",
       "  </thead>\n",
       "  <tbody>\n",
       "    <tr>\n",
       "      <th>0</th>\n",
       "      <td>Sunday Artisan Market</td>\n",
       "      <td>50588</td>\n",
       "      <td>NaN</td>\n",
       "      <td>FARMERS</td>\n",
       "      <td>The Sunday Artisan Market provides space for l...</td>\n",
       "      <td>5th Avenue between Market Street and Island Av...</td>\n",
       "      <td>2018-12-30 10:00:00</td>\n",
       "      <td>2018-12-30 15:00:00</td>\n",
       "      <td>3,000</td>\n",
       "      <td>20</td>\n",
       "      <td>gaslamp quarter association</td>\n",
       "      <td>www.gaslamp.org</td>\n",
       "      <td>5th Avenue &amp; Market Street</td>\n",
       "      <td>32.731392</td>\n",
       "      <td>-117.160285</td>\n",
       "      <td>gaslamp</td>\n",
       "      <td>org</td>\n",
       "    </tr>\n",
       "    <tr>\n",
       "      <th>1</th>\n",
       "      <td>Old Town Artisan's Market</td>\n",
       "      <td>50424</td>\n",
       "      <td>NaN</td>\n",
       "      <td>FARMERS</td>\n",
       "      <td>A weekend open air market offering an array of...</td>\n",
       "      <td>Harney Street between San Diego Avenue and Con...</td>\n",
       "      <td>2018-12-30 09:00:00</td>\n",
       "      <td>2018-12-30 16:30:00</td>\n",
       "      <td>1,000</td>\n",
       "      <td>100</td>\n",
       "      <td>old town san diego chamber of commerce</td>\n",
       "      <td>NaN</td>\n",
       "      <td>Harney Street &amp; San Diego Avenue</td>\n",
       "      <td>32.752779</td>\n",
       "      <td>-117.194902</td>\n",
       "      <td>NaN</td>\n",
       "      <td>NaN</td>\n",
       "    </tr>\n",
       "    <tr>\n",
       "      <th>2</th>\n",
       "      <td>2018 Hillcrest Farmers' Market (Sundays)</td>\n",
       "      <td>49953</td>\n",
       "      <td>NaN</td>\n",
       "      <td>FARMERS</td>\n",
       "      <td>This farmer's market in Hillcrest offers an ar...</td>\n",
       "      <td>DMV parking lot at 3690 Normal Street ~ Normal...</td>\n",
       "      <td>2018-12-30 09:00:00</td>\n",
       "      <td>2018-12-30 14:00:00</td>\n",
       "      <td>2,000</td>\n",
       "      <td>400</td>\n",
       "      <td>hillcrest business association</td>\n",
       "      <td>www.hillcrestfarmersmarket.com</td>\n",
       "      <td>3690 Normal Street</td>\n",
       "      <td>32.748542</td>\n",
       "      <td>-117.149901</td>\n",
       "      <td>hillcrestfarmersmarket</td>\n",
       "      <td>com</td>\n",
       "    </tr>\n",
       "    <tr>\n",
       "      <th>3</th>\n",
       "      <td>Old Town Artisan's Market</td>\n",
       "      <td>50423</td>\n",
       "      <td>NaN</td>\n",
       "      <td>FARMERS</td>\n",
       "      <td>A weekend open air market offering an array of...</td>\n",
       "      <td>Harney Street between San Diego Avenue and Con...</td>\n",
       "      <td>2018-12-29 09:00:00</td>\n",
       "      <td>2018-12-29 16:30:00</td>\n",
       "      <td>1,000</td>\n",
       "      <td>100</td>\n",
       "      <td>old town san diego chamber of commerce</td>\n",
       "      <td>NaN</td>\n",
       "      <td>Harney Street &amp; San Diego Avenue</td>\n",
       "      <td>32.752779</td>\n",
       "      <td>-117.194902</td>\n",
       "      <td>NaN</td>\n",
       "      <td>NaN</td>\n",
       "    </tr>\n",
       "    <tr>\n",
       "      <th>4</th>\n",
       "      <td>City Heights Farmer's Market (Every Saturday)</td>\n",
       "      <td>50130</td>\n",
       "      <td>NaN</td>\n",
       "      <td>FARMERS</td>\n",
       "      <td>This farmer's market in City Heights offers an...</td>\n",
       "      <td>Wightman Street between 43rd Street and Fairmo...</td>\n",
       "      <td>2018-12-29 09:00:00</td>\n",
       "      <td>2018-12-29 13:00:00</td>\n",
       "      <td>500</td>\n",
       "      <td>100</td>\n",
       "      <td>san diego county farm bureau</td>\n",
       "      <td>www.sdfarmbureau.org</td>\n",
       "      <td>Wightman &amp; 43rd Streets</td>\n",
       "      <td>32.747753</td>\n",
       "      <td>-117.099983</td>\n",
       "      <td>sdfarmbureau</td>\n",
       "      <td>org</td>\n",
       "    </tr>\n",
       "  </tbody>\n",
       "</table>\n",
       "</div>"
      ],
      "text/plain": [
       "                                     event_title  event_id  event_subtitle  \\\n",
       "0                          Sunday Artisan Market     50588             NaN   \n",
       "1                      Old Town Artisan's Market     50424             NaN   \n",
       "2       2018 Hillcrest Farmers' Market (Sundays)     49953             NaN   \n",
       "3                      Old Town Artisan's Market     50423             NaN   \n",
       "4  City Heights Farmer's Market (Every Saturday)     50130             NaN   \n",
       "\n",
       "  event_type                                         event_desc  \\\n",
       "0    FARMERS  The Sunday Artisan Market provides space for l...   \n",
       "1    FARMERS  A weekend open air market offering an array of...   \n",
       "2    FARMERS  This farmer's market in Hillcrest offers an ar...   \n",
       "3    FARMERS  A weekend open air market offering an array of...   \n",
       "4    FARMERS  This farmer's market in City Heights offers an...   \n",
       "\n",
       "                                           event_loc          event_start  \\\n",
       "0  5th Avenue between Market Street and Island Av...  2018-12-30 10:00:00   \n",
       "1  Harney Street between San Diego Avenue and Con...  2018-12-30 09:00:00   \n",
       "2  DMV parking lot at 3690 Normal Street ~ Normal...  2018-12-30 09:00:00   \n",
       "3  Harney Street between San Diego Avenue and Con...  2018-12-29 09:00:00   \n",
       "4  Wightman Street between 43rd Street and Fairmo...  2018-12-29 09:00:00   \n",
       "\n",
       "             event_end exp_attendance exp_participants  \\\n",
       "0  2018-12-30 15:00:00          3,000               20   \n",
       "1  2018-12-30 16:30:00          1,000              100   \n",
       "2  2018-12-30 14:00:00          2,000              400   \n",
       "3  2018-12-29 16:30:00          1,000              100   \n",
       "4  2018-12-29 13:00:00            500              100   \n",
       "\n",
       "                               event_host                       event_url  \\\n",
       "0             gaslamp quarter association                 www.gaslamp.org   \n",
       "1  old town san diego chamber of commerce                             NaN   \n",
       "2          hillcrest business association  www.hillcrestfarmersmarket.com   \n",
       "3  old town san diego chamber of commerce                             NaN   \n",
       "4            san diego county farm bureau            www.sdfarmbureau.org   \n",
       "\n",
       "                      event_address   latitude   longitude  \\\n",
       "0        5th Avenue & Market Street  32.731392 -117.160285   \n",
       "1  Harney Street & San Diego Avenue  32.752779 -117.194902   \n",
       "2               3690 Normal Street   32.748542 -117.149901   \n",
       "3  Harney Street & San Diego Avenue  32.752779 -117.194902   \n",
       "4           Wightman & 43rd Streets  32.747753 -117.099983   \n",
       "\n",
       "             event_domain event_suffix  \n",
       "0                 gaslamp          org  \n",
       "1                     NaN          NaN  \n",
       "2  hillcrestfarmersmarket          com  \n",
       "3                     NaN          NaN  \n",
       "4            sdfarmbureau          org  "
      ]
     },
     "execution_count": 33,
     "metadata": {},
     "output_type": "execute_result"
    }
   ],
   "source": [
    "# what does the data look like\n",
    "df = df[df['event_host'].notnull()]\n",
    "df['event_host'] = df['event_host'].apply(cleaning_names)\n",
    "df['event_domain'], df['event_suffix'] = url_processing(df)\n",
    "\n",
    "df.head()"
   ]
  },
  {
   "cell_type": "markdown",
   "metadata": {},
   "source": [
    "# Who host the most events requiring a special permit?\n",
    "\n",
    "Now that I have finished processing and cleaning the special permitting data. Let's find out what organizations have hosted the most special events in our special permit dataset. \n",
    "\n",
    "## Host Frequency Count Protocol\n",
    "In order to find out which organization has hosted the most events we need a frequency count. I am calculating frequency count utilizing the pandas dataframe groupby size for both records with and without a url. \n",
    "\n",
    "If a record has a url we run the groupby on the event_domain column. If the records is missing the url utilize the event_host column for the groupby. This will generate to pandas series with frequency counts for each unique domain name and host name. Once these pandas series are generated we append them together and sort by decsending order. Then plot the top 20 values of these pandas series in a bar chart with them.\n",
    "\n",
    "## Result\n",
    "The **majority of the top 20 hosts of special events are farmer markets** in various different nieghborhoods of san diego.\n",
    "More specifically the organization that hosts the most events is **Little Italy's Mercato Farmers’ Market.** "
   ]
  },
  {
   "cell_type": "code",
   "execution_count": 34,
   "metadata": {},
   "outputs": [],
   "source": [
    "# Get the frequency count of all events with a domain and then if url was null\n",
    "# count the frequency a host name occurred\n",
    "host_counts = df[df.event_domain.notnull()].groupby(['event_domain']).size()\n",
    "counts_null_host = df[df.event_domain.isnull()].groupby(['event_host']).size()\n",
    "# append the counts counted via url domain to the count based on host names that have no provided url\n",
    "host_counts.append(counts_null_host)\n",
    "host_counts.sort_values(ascending=False, inplace=True)"
   ]
  },
  {
   "cell_type": "code",
   "execution_count": 35,
   "metadata": {},
   "outputs": [
    {
     "data": {
      "text/plain": [
       "<matplotlib.axes._subplots.AxesSubplot at 0x10c135ef0>"
      ]
     },
     "execution_count": 35,
     "metadata": {},
     "output_type": "execute_result"
    },
    {
     "data": {
      "image/png": "[encoded data removed]",
      "text/plain": [
       "<matplotlib.figure.Figure at 0x10b413be0>"
      ]
     },
     "metadata": {},
     "output_type": "display_data"
    }
   ],
   "source": [
    "# graphing the top twenty organizations that host the majority of the events.\n",
    "host_counts[:19].plot.barh()"
   ]
  },
  {
   "cell_type": "markdown",
   "metadata": {},
   "source": [
    "# What are the most common types of special events in San Diego?\n",
    "\n",
    "Now that we have identified that farmer markets host doesn't mean that farm markets are actually the most common event. Or that there isn't a predominate sub-type of farmer markets that are the majority of special events. In order to identify that we need to first compare the frequency counts of different special event types. After comparing those counts we then need to try and identify sub groups by conducting a topic analysis on the event descriptions. \n",
    "\n",
    "\n",
    "## Event Type Frequence Count Protocol\n",
    "NEED TO WRITE IT DOWN\n",
    "\n",
    "## Event Description Topic Analysis Protocol\n",
    "NEED TO WRITE IT DOWN\n",
    "\n",
    "## Results:\n",
    "- Frequency of Event Type:\n",
    "    - we can confirm the most frequent special event are farmers markets. Followed by Festivals and then Altheltic (most likely padre games)\n",
    "- What are the sub groups of these event types?"
   ]
  },
  {
   "cell_type": "code",
   "execution_count": 38,
   "metadata": {},
   "outputs": [
    {
     "name": "stdout",
     "output_type": "stream",
     "text": [
      "event_type\n",
      "FARMERS     1472\n",
      "FESTIVAL     752\n",
      "ATHLETIC     415\n",
      "PARADES       54\n",
      "CONCERTS      47\n",
      "EXHIBITS      23\n",
      "MUSEUM         5\n",
      "dtype: int64\n"
     ]
    },
    {
     "data": {
      "text/plain": [
       "<matplotlib.axes._subplots.AxesSubplot at 0x10bb33d30>"
      ]
     },
     "execution_count": 38,
     "metadata": {},
     "output_type": "execute_result"
    },
    {
     "data": {
      "image/png": "[encoded data removed]",
      "text/plain": [
       "<matplotlib.figure.Figure at 0x10bf125f8>"
      ]
     },
     "metadata": {},
     "output_type": "display_data"
    }
   ],
   "source": [
    "event_type_count = df.groupby(['event_type']).size() # lets get the frequency count for each event_type\n",
    "event_type_count.sort_values(inplace=True, ascending=False) # sort the values in the pandas series by descending order\n",
    "print (event_type_count) # lets see the frequency table\n",
    "event_type_count.plot.barh() # plotting the frequency table as a horizontial bar plot."
   ]
  },
  {
   "cell_type": "code",
   "execution_count": null,
   "metadata": {},
   "outputs": [],
   "source": [
    "from sklearn.decomposition import NMF, LatentDirichletAllocation\n",
    "from sklearn.feature_extraction.text import TfidfVectorizer, CountVectorizer\n",
    "\n",
    "# conducting a LDA analysis of event descriptions.\n",
    "\n",
    "# NMF is able to use tf-idf\n",
    "tfidf_vectorizer = TfidfVectorizer(max_df=0.95, min_df=2, max_features=no_features, stop_words='english')\n",
    "tfidf = tfidf_vectorizer.fit_transform(documents)\n",
    "tfidf_feature_names = tfidf_vectorizer.get_feature_names()\n",
    "\n",
    "# LDA can only use raw term counts for LDA because it is a probabilistic graphical model\n",
    "tf_vectorizer = CountVectorizer(max_df=0.95, min_df=2, max_features=no_features, stop_words='english')\n",
    "tf = tf_vectorizer.fit_transform(documents)\n",
    "tf_feature_names = tf_vectorizer.get_feature_names()\n",
    "\n",
    "no_topics = 20\n",
    "\n",
    "# Run NMF\n",
    "nmf = NMF(n_components=no_topics, random_state=1, alpha=.1, l1_ratio=.5, init='nndsvd').fit(tfidf)\n",
    "\n",
    "# Run LDA\n",
    "lda = LatentDirichletAllocation(n_topics=no_topics, max_iter=5, learning_method='online', learning_offset=50.,random_state=0).fit(tf)\n"
   ]
  }
 ],
 "metadata": {
  "kernelspec": {
   "display_name": "Python 3",
   "language": "python",
   "name": "python3"
  },
  "language_info": {
   "codemirror_mode": {
    "name": "ipython",
    "version": 3
   },
   "file_extension": ".py",
   "mimetype": "text/x-python",
   "name": "python",
   "nbconvert_exporter": "python",
   "pygments_lexer": "ipython3",
   "version": "3.6.3"
  }
 },
 "nbformat": 4,
 "nbformat_minor": 2
}
